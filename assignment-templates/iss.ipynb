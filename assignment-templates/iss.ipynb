import requests
import matplotlib.pyplot as plt
import time

interval = 10
data = []

for i in range(100):
    url = "http://api.open-notify.org/iss-now.json"
    response = requests.get(url)
    data_point = response.json()
    data.append((float(data_point["iss_position"]["latitude"]), float(data_point["iss_position"]["longitude"]), data_point["timestamp"]))
    time.sleep(interval)

plt.plot([p[1] for p in data], [p[0] for p in data])
plt.xlabel("Latitude")
plt.ylabel("Longitude")
plt.title("Path of the International Space Station")
plt.grid(True)
plt.show()
